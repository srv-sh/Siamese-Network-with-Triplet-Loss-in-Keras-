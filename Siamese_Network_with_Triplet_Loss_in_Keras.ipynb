{
  "nbformat": 4,
  "nbformat_minor": 0,
  "metadata": {
    "colab": {
      "name": "Siamese Network with Triplet Loss in Keras.ipynb",
      "provenance": [],
      "authorship_tag": "ABX9TyPL0qv65uXPi1juCkkusMby",
      "include_colab_link": true
    },
    "kernelspec": {
      "name": "python3",
      "display_name": "Python 3"
    },
    "accelerator": "GPU"
  },
  "cells": [
    {
      "cell_type": "markdown",
      "metadata": {
        "id": "view-in-github",
        "colab_type": "text"
      },
      "source": [
        "<a href=\"https://colab.research.google.com/github/srv-sh/Siamese-Network-with-Triplet-Loss-in-Keras-/blob/master/Siamese_Network_with_Triplet_Loss_in_Keras.ipynb\" target=\"_parent\"><img src=\"https://colab.research.google.com/assets/colab-badge.svg\" alt=\"Open In Colab\"/></a>"
      ]
    },
    {
      "cell_type": "code",
      "metadata": {
        "id": "afVnHoygxQax"
      },
      "source": [
        "import tensorflow as tf\n",
        "\n",
        "import keras\n",
        "import matplotlib.pyplot as plt\n",
        "import numpy as np\n",
        "import random\n",
        "#from pca_plotter import PCAPlotter"
      ],
      "execution_count": null,
      "outputs": []
    },
    {
      "cell_type": "code",
      "metadata": {
        "id": "JQPEXBWyKDb4",
        "outputId": "6e6ef429-a861-4725-a4e4-4c734e5802d1",
        "colab": {
          "base_uri": "https://localhost:8080/",
          "height": 54
        }
      },
      "source": [
        "#import the data\n",
        "(x_train,y_train),(x_test , y_test) = tf.keras.datasets.mnist.load_data()"
      ],
      "execution_count": null,
      "outputs": [
        {
          "output_type": "stream",
          "text": [
            "Downloading data from https://storage.googleapis.com/tensorflow/tf-keras-datasets/mnist.npz\n",
            "11493376/11490434 [==============================] - 0s 0us/step\n"
          ],
          "name": "stdout"
        }
      ]
    },
    {
      "cell_type": "code",
      "metadata": {
        "id": "b3ZdG-XZK79l",
        "outputId": "742bad22-41cb-4ebd-828a-cc30e97ac447",
        "colab": {
          "base_uri": "https://localhost:8080/",
          "height": 35
        }
      },
      "source": [
        "print(x_train.shape)"
      ],
      "execution_count": null,
      "outputs": [
        {
          "output_type": "stream",
          "text": [
            "(60000, 28, 28)\n"
          ],
          "name": "stdout"
        }
      ]
    },
    {
      "cell_type": "code",
      "metadata": {
        "id": "o7_pX9DCxV-M",
        "outputId": "3b59b2ff-1e96-42c9-912c-33e459fff793",
        "colab": {
          "base_uri": "https://localhost:8080/",
          "height": 35
        }
      },
      "source": [
        "#normalizing \n",
        "x_train = np.reshape(x_train , (60000,784))/255.\n",
        "x_test = np.reshape(x_test , (10000,784))/255.\n",
        "print(x_train.shape)"
      ],
      "execution_count": null,
      "outputs": [
        {
          "output_type": "stream",
          "text": [
            "(60000, 784)\n"
          ],
          "name": "stdout"
        }
      ]
    },
    {
      "cell_type": "code",
      "metadata": {
        "id": "Ggeaawf_LWTd"
      },
      "source": [
        "#ploting data"
      ],
      "execution_count": null,
      "outputs": []
    },
    {
      "cell_type": "code",
      "metadata": {
        "id": "zeSzBkQsLlkA"
      },
      "source": [
        "def plot_triplet(triplet):\n",
        "  plt.figure(figsize =(6,2))\n",
        "  for i in range(0,3):\n",
        "    plt.subplot(1,3, i+1)\n",
        "    plt.imshow(np.reshape(triplet[i],(28,28)) , cmap = 'binary')\n",
        "    plt.xticks([])\n",
        "    plt.yticks([])\n",
        "  plt.show()"
      ],
      "execution_count": null,
      "outputs": []
    },
    {
      "cell_type": "code",
      "metadata": {
        "id": "Ykg39p-7NR5j",
        "outputId": "94d6dae2-3040-4802-b77e-127759993105",
        "colab": {
          "base_uri": "https://localhost:8080/",
          "height": 133
        }
      },
      "source": [
        "plot_triplet([x_train[0],x_train[1],x_train[2]])"
      ],
      "execution_count": null,
      "outputs": [
        {
          "output_type": "display_data",
          "data": {
            "image/png": "[encoded data removed]",
            "text/plain": [
              "<Figure size 432x144 with 3 Axes>"
            ]
          },
          "metadata": {
            "tags": []
          }
        }
      ]
    },
    {
      "cell_type": "code",
      "metadata": {
        "id": "mPjgW0pmNhdr"
      },
      "source": [
        "# a batch of triplets\n",
        "def create_batch(batch_size):\n",
        "  anchors = np.zeros((batch_size,784))\n",
        "  positives =np.zeros((batch_size,784))\n",
        "  negatives = np.zeros((batch_size,784))\n",
        "\n",
        "  for i in range(0, batch_size):\n",
        "    index = random.randint(0 , 60000 -1)\n",
        "    anc = x_train[index]\n",
        "    y = y_train[index]\n",
        "\n",
        "    indices_for_pos = np.squeeze(np.where(y_train == y))\n",
        "    indices_for_neg = np.squeeze(np.where(y_train != y))\n",
        "\n",
        "    pos = x_train[indices_for_pos[random.randint(0,len(indices_for_pos) - 1)]]\n",
        "    neg = x_train[indices_for_neg[random.randint(0,len(indices_for_neg) - 1)]]\n",
        "\n",
        "    anchors[i] = anc\n",
        "    positives[i] = pos\n",
        "    negatives[i] = neg\n",
        "\n",
        "  return [anchors , positives , negatives]\n"
      ],
      "execution_count": null,
      "outputs": []
    },
    {
      "cell_type": "code",
      "metadata": {
        "id": "XWR0-TZ2S5rb",
        "outputId": "12691014-776b-4ca9-918a-c124c34d74ea",
        "colab": {
          "base_uri": "https://localhost:8080/",
          "height": 133
        }
      },
      "source": [
        "triplet = create_batch(1)\n",
        "plot_triplet(triplet)"
      ],
      "execution_count": null,
      "outputs": [
        {
          "output_type": "display_data",
          "data": {
            "image/png": "[encoded data removed]",
            "text/plain": [
              "<Figure size 432x144 with 3 Axes>"
            ]
          },
          "metadata": {
            "tags": []
          }
        }
      ]
    },
    {
      "cell_type": "code",
      "metadata": {
        "id": "4W_NrdubXLMQ",
        "outputId": "19d4af61-fa22-4274-d13d-6886650b1330",
        "colab": {
          "base_uri": "https://localhost:8080/",
          "height": 237
        }
      },
      "source": [
        "#embading model\n",
        "emb_dim = 64\n",
        "model = tf.keras.models.Sequential([\n",
        "        tf.keras.layers.Dense(64,activation='relu',input_shape=(784,)),\n",
        "        tf.keras.layers.Dense(emb_dim , activation='sigmoid')\n",
        "])\n",
        "model.summary()\n"
      ],
      "execution_count": null,
      "outputs": [
        {
          "output_type": "stream",
          "text": [
            "Model: \"sequential_1\"\n",
            "_________________________________________________________________\n",
            "Layer (type)                 Output Shape              Param #   \n",
            "=================================================================\n",
            "dense_2 (Dense)              (None, 64)                50240     \n",
            "_________________________________________________________________\n",
            "dense_3 (Dense)              (None, 64)                4160      \n",
            "=================================================================\n",
            "Total params: 54,400\n",
            "Trainable params: 54,400\n",
            "Non-trainable params: 0\n",
            "_________________________________________________________________\n"
          ],
          "name": "stdout"
        }
      ]
    },
    {
      "cell_type": "code",
      "metadata": {
        "id": "M_vMy-i1ZWfN"
      },
      "source": [
        "example = x_train[0]\n",
        "example_emb = model.predict(np.expand_dims(example , axis = 0))[0]"
      ],
      "execution_count": null,
      "outputs": []
    },
    {
      "cell_type": "code",
      "metadata": {
        "id": "W0OKfITybTrl",
        "outputId": "8490b35e-892a-431a-806e-57f93fe33c36",
        "colab": {
          "base_uri": "https://localhost:8080/",
          "height": 256
        }
      },
      "source": [
        "example_emb"
      ],
      "execution_count": null,
      "outputs": [
        {
          "output_type": "execute_result",
          "data": {
            "text/plain": [
              "array([0.49985287, 0.50025064, 0.50009555, 0.5003762 , 0.5005306 ,\n",
              "       0.4997475 , 0.5000504 , 0.50021666, 0.5005744 , 0.49984735,\n",
              "       0.50045866, 0.49984473, 0.49978527, 0.5007147 , 0.49942237,\n",
              "       0.500041  , 0.49994326, 0.5002609 , 0.5001118 , 0.4995798 ,\n",
              "       0.49924642, 0.499728  , 0.49950755, 0.4993564 , 0.4999435 ,\n",
              "       0.5004932 , 0.49986318, 0.50068635, 0.5000878 , 0.5001537 ,\n",
              "       0.49991405, 0.49989048, 0.5001761 , 0.50000286, 0.50001305,\n",
              "       0.5001861 , 0.49969506, 0.4998894 , 0.5001283 , 0.49974465,\n",
              "       0.50064653, 0.5002011 , 0.5005037 , 0.5002195 , 0.5000189 ,\n",
              "       0.49981862, 0.49952862, 0.49984932, 0.50040454, 0.49916545,\n",
              "       0.5002494 , 0.4995429 , 0.5001902 , 0.49997604, 0.50000113,\n",
              "       0.50016177, 0.49990883, 0.50003314, 0.5003638 , 0.49979267,\n",
              "       0.5001399 , 0.5005984 , 0.5004387 , 0.49992216], dtype=float32)"
            ]
          },
          "metadata": {
            "tags": []
          },
          "execution_count": 28
        }
      ]
    },
    {
      "cell_type": "code",
      "metadata": {
        "id": "guoxZqpubWK9"
      },
      "source": [
        "#siamese network "
      ],
      "execution_count": null,
      "outputs": []
    },
    {
      "cell_type": "code",
      "metadata": {
        "id": "oTk5ing-bof-",
        "outputId": "1edddbc0-8031-47ec-dd82-8bfc01e98618",
        "colab": {
          "base_uri": "https://localhost:8080/",
          "height": 421
        }
      },
      "source": [
        "in_anc = tf.keras.layers.Input(shape=(784,))\n",
        "in_pos = tf.keras.layers.Input(shape=(784,))\n",
        "in_neg = tf.keras.layers.Input(shape=(784,))\n",
        "\n",
        "em_anc = model(in_anc)\n",
        "em_pos = model(in_pos)\n",
        "em_neg = model(in_neg)\n",
        "\n",
        "out = tf.keras.layers.concatenate([em_anc , em_pos , em_neg], axis=1 )\n",
        "\n",
        "net = tf.keras.models.Model(\n",
        "    [in_anc , in_pos , in_neg],\n",
        "    out\n",
        ")\n",
        "net.summary()\n"
      ],
      "execution_count": null,
      "outputs": [
        {
          "output_type": "stream",
          "text": [
            "Model: \"functional_1\"\n",
            "__________________________________________________________________________________________________\n",
            "Layer (type)                    Output Shape         Param #     Connected to                     \n",
            "==================================================================================================\n",
            "input_1 (InputLayer)            [(None, 784)]        0                                            \n",
            "__________________________________________________________________________________________________\n",
            "input_2 (InputLayer)            [(None, 784)]        0                                            \n",
            "__________________________________________________________________________________________________\n",
            "input_3 (InputLayer)            [(None, 784)]        0                                            \n",
            "__________________________________________________________________________________________________\n",
            "sequential_1 (Sequential)       (None, 64)           54400       input_1[0][0]                    \n",
            "                                                                 input_2[0][0]                    \n",
            "                                                                 input_3[0][0]                    \n",
            "__________________________________________________________________________________________________\n",
            "concatenate (Concatenate)       (None, 192)          0           sequential_1[0][0]               \n",
            "                                                                 sequential_1[1][0]               \n",
            "                                                                 sequential_1[2][0]               \n",
            "==================================================================================================\n",
            "Total params: 54,400\n",
            "Trainable params: 54,400\n",
            "Non-trainable params: 0\n",
            "__________________________________________________________________________________________________\n"
          ],
          "name": "stdout"
        }
      ]
    },
    {
      "cell_type": "code",
      "metadata": {
        "id": "cMYC7cwkijuN"
      },
      "source": [
        "#triple loss\n",
        "def triplet_loss(alpha , emb_dim):\n",
        "  def loss(y_true , y_pred):\n",
        "    anc , pos , neg = y_pred[:, :emb_dim] , y_pred[:, emb_dim: 2*emb_dim] ,y_pred[:, 2*emb_dim:]\n",
        "    dp = tf.reduce_mean(tf.square(anc - pos), axis =1)\n",
        "    dn = tf.reduce_mean(tf.square(anc - neg), axis =1)\n",
        "    return tf.maximum(dp - dn +alpha , 0.)\n",
        "  return loss"
      ],
      "execution_count": null,
      "outputs": []
    },
    {
      "cell_type": "code",
      "metadata": {
        "id": "myLnVzkjtoO0"
      },
      "source": [
        "# Data generator\n",
        "def data_generator(batch_size, emb_dim):\n",
        "  while True:\n",
        "    x = create_batch(batch_size)\n",
        "    y= np.zeros((batch_size , 3*emb_dim))\n",
        "    yield x, y\n",
        "    "
      ],
      "execution_count": null,
      "outputs": []
    },
    {
      "cell_type": "code",
      "metadata": {
        "id": "EKYfQkKhy3we"
      },
      "source": [
        "#model training \n",
        "batch_size = 1024\n",
        "epochs =10 \n",
        "steps_per_epoch = int(60000/ batch_size)\n",
        "\n",
        "net.compile(loss = triplet_loss(alpha=0.2, emb_dim= emb_dim), optimizer= 'adam',metrics=['accuracy'])\n",
        "\n",
        "X,Y  = x_test[:1000] , y_test[:1000]"
      ],
      "execution_count": null,
      "outputs": []
    },
    {
      "cell_type": "code",
      "metadata": {
        "id": "F3kBZ4cT64KI",
        "outputId": "242e3da2-cebe-46b7-9cd0-616260e80b3a",
        "colab": {
          "base_uri": "https://localhost:8080/",
          "height": 246
        }
      },
      "source": [
        "history = net.fit(\n",
        "    data_generator(batch_size , emb_dim) ,\n",
        "    epochs =  epochs , steps_per_epoch = steps_per_epoch,\n",
        "    validation_split=0.2,\n",
        "    verbose =False,\n",
        "  \n",
        ")"
      ],
      "execution_count": null,
      "outputs": [
        {
          "output_type": "error",
          "ename": "NameError",
          "evalue": "ignored",
          "traceback": [
            "\u001b[0;31m---------------------------------------------------------------------------\u001b[0m",
            "\u001b[0;31mNameError\u001b[0m                                 Traceback (most recent call last)",
            "\u001b[0;32m<ipython-input-1-bfb2dba6371e>\u001b[0m in \u001b[0;36m<module>\u001b[0;34m()\u001b[0m\n\u001b[0;32m----> 1\u001b[0;31m history = net.fit(\n\u001b[0m\u001b[1;32m      2\u001b[0m     \u001b[0mdata_generator\u001b[0m\u001b[0;34m(\u001b[0m\u001b[0mbatch_size\u001b[0m \u001b[0;34m,\u001b[0m \u001b[0memb_dim\u001b[0m\u001b[0;34m)\u001b[0m \u001b[0;34m,\u001b[0m\u001b[0;34m\u001b[0m\u001b[0;34m\u001b[0m\u001b[0m\n\u001b[1;32m      3\u001b[0m     \u001b[0mepochs\u001b[0m \u001b[0;34m=\u001b[0m  \u001b[0mepochs\u001b[0m \u001b[0;34m,\u001b[0m \u001b[0msteps_per_epoch\u001b[0m \u001b[0;34m=\u001b[0m \u001b[0msteps_per_epoch\u001b[0m\u001b[0;34m,\u001b[0m\u001b[0;34m\u001b[0m\u001b[0;34m\u001b[0m\u001b[0m\n\u001b[1;32m      4\u001b[0m     \u001b[0mvalidation_split\u001b[0m\u001b[0;34m=\u001b[0m\u001b[0;36m0.2\u001b[0m\u001b[0;34m,\u001b[0m\u001b[0;34m\u001b[0m\u001b[0;34m\u001b[0m\u001b[0m\n\u001b[1;32m      5\u001b[0m     \u001b[0mverbose\u001b[0m \u001b[0;34m=\u001b[0m\u001b[0;32mFalse\u001b[0m\u001b[0;34m,\u001b[0m\u001b[0;34m\u001b[0m\u001b[0;34m\u001b[0m\u001b[0m\n",
            "\u001b[0;31mNameError\u001b[0m: name 'net' is not defined"
          ]
        }
      ]
    },
    {
      "cell_type": "code",
      "metadata": {
        "id": "mtnvXJgC-9Eo",
        "outputId": "b339401a-e9f9-4b94-b64c-773ed1878751",
        "colab": {
          "base_uri": "https://localhost:8080/",
          "height": 295
        }
      },
      "source": [
        "# Plot history: MAE\n",
        "plt.plot(history.history['loss'], label='MAE (training data)')\n",
        "plt.plot(history.history['accuracy'], label='MAE (accuracy)')\n",
        "plt.title('MAE for Chennai Reservoir Levels')\n",
        "plt.ylabel('MAE value')\n",
        "plt.xlabel('No. epoch')\n",
        "plt.legend(loc=\"upper left\")\n",
        "plt.show()"
      ],
      "execution_count": null,
      "outputs": [
        {
          "output_type": "display_data",
          "data": {
            "image/png": "[encoded data removed]",
            "text/plain": [
              "<Figure size 432x288 with 1 Axes>"
            ]
          },
          "metadata": {
            "tags": [],
            "needs_background": "light"
          }
        }
      ]
    },
    {
      "cell_type": "code",
      "metadata": {
        "id": "mwMNF7suBnEe"
      },
      "source": [
        ""
      ],
      "execution_count": null,
      "outputs": []
    }
  ]
}